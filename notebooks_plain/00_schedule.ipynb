{
 "cells": [
  {
   "cell_type": "markdown",
   "metadata": {
    "slideshow": {
     "slide_type": "slide"
    }
   },
   "source": [
    "# The interaction between simulation and scattering \n",
    "\n",
    "<h2> <a href=\"https://orcid.org/0000-0003-3381-5911\">A. R. McCluskey</a>,<sup>1,2</sup>\n",
    "<a href=\"https://orcid.org/0000-0001-6059-497X\">A. R. Symington</a>,<sup>1</sup>\n",
    "<a href=\"https://orcid.org/0000-0003-1362-2055\">J. Grant</a>,<sup>3</sup>\n",
    "<a href=\"https://orcid.org/0000-0002-3056-8233\">B. J. Morgan</a>,<sup>1</sup>\n",
    "<a href=\"https://orcid.org/0000-0003-3804-0975\">S. C. Parker</a>,<sup>1</sup> and\n",
    "<a href=\"https://orcid.org/0000-0001-5822-0127\">K. J. Edler</a><sup>1</sup>\n",
    "\n",
    "<h4> <sup>1</sup> Department of Chemistry, University of Bath, Claverton Down, Bath, BA2 7AY, UK. <br><sup>2</sup> Diamond Light Source, Diamond House, Rutherford Appleton Laboratory, Harwell Oxford, OX11 0DE, UK. <br><sup>3</sup> Computing Services, University of Bath, Claverton Down, Bath, BA2 7AY, UK. </h4>\n",
    "\n",
    "**Classical molecular dynamics** (MD) is a common computational chemistry technique for studying complex systems, such as proteins, polymers, and battery materials [1-4].\n",
    "Alongside the interest in these and other applications, molecular dynamics is also a used to help analyse data obtained from elastic scattering instruments. \n",
    "\n",
    "This tutorial has been written to **introduce users of elastic-scattering techniques**, such as small angle scattering or diffraction, to classical molecular dynamics (MD) simulation.\n",
    "We hope that this tutorial can provide an accessible route for experimental researchers to **better understand some of the complexities and subtleties  of MD simulation**, thereby helping these researchers to get more relevant information from their simulations.\n",
    "\n",
    "This tutorial begins with an introduction to classical simulation methods, including a discussion of the development and parameterisation of classical interatomic potential models. \n",
    "We then provide an outline of traditional molecular dynamics simulation methods and discuss a number of important considerations users of MD simulation should be aware of. \n",
    "We close this tutorial with an illustrative practical example, using the [open-source Lennard-Jones simulation package `pylj`](https://doi.org/10.21105/jose.00019) [5], and discuss how a radially averaged scattering profile may be obtained **directly from simulation** via the Debye equation [6]. \n",
    "\n",
    "We wish to emphasise that this tutorial is in **no way** a complete course on molecular dynamics, and would direct the interested reader to one of the many detailed textbooks on this subject [7-11]. \n",
    "Rather, it is our hope that this tutorial provides a simple, practical, **general introduction to new, or future, users of MD methods within the scattering community**."
   ]
  },
  {
   "cell_type": "markdown",
   "metadata": {
    "slideshow": {
     "slide_type": "slide"
    }
   },
   "source": [
    "## Prerequisites\n",
    "\n",
    "To complete this tutorial you will need:\n",
    "* The ability to run [Jupyter Notebooks](http://jupyter.org). We recommend the Jupyter functionality within the [Anaconda](https://www.anaconda.com/download/) distribution.\n",
    "* Some basic understanding of the Python programming language (a great tool for learning some Python is [pythoninchemistry.org](http://pythoninchemistry.org)).\n",
    "* Some knowledge of undergraduate chemistry or physics may be required to fully appreciate the nature of classical potential models.\n",
    "* A decent understanding of advanced high school level mathematics. "
   ]
  },
  {
   "cell_type": "markdown",
   "metadata": {},
   "source": [
    "## Information: Code (in)efficiency\n",
    "\n",
    "Please be aware that the Python code written in this tutorial has been written to prioritise understanding, above computational efficiency. Individual examples may therefore not be be the most efficient implementation of particular algorithms.\n",
    "That said, we have endeavoured to provide code examples that are &ldquo;authentic&rdquo;, and accurately represent the relevant aspects of &ldquo;real&rdquo; molecular dynamics methods."
   ]
  },
  {
   "cell_type": "markdown",
   "metadata": {},
   "source": [
    "## Getting started\n",
    "\n",
    "This tutorial has been written to be an interactive learning experience, with you, the reader, writing and executing code alongside our instructions. \n",
    "Before starting the practical side of this tutorial, it is necessary to ensure that your computer is set up correctly. \n",
    "The next set of instructions assume that you want to the Jupyter Notebook application provided within the Anaconda distribution \n",
    "\n",
    "1. Download and install [Anaconda](https://www.anaconda.org/download/). We recommend the Python 3.x version. \n",
    "\n",
    "2. Having installed Anaconda, we recommend creating a `conda` environment to run this tutorial in. To do so, open a Terminal window (macOS or linux) or the anaconda prompt (Windows) and run the following command (this step only needs to be preformed once). \n",
    "\n",
    "    ```\n",
    "    conda create -n tutorial python \n",
    "    ```\n",
    "   \n",
    "3. Next we must access the environment using the following command.\n",
    "    ```\n",
    "    source activate tutorial \n",
    "    ```\n",
    "\n",
    "4. Then install some packages for necessary for the tutorial.\n",
    "    ```\n",
    "    pip install sim-and-scat     \n",
    "    ```\n",
    "\n",
    "5. Having set up the `conda` enivornment, all that is left to do in terms of getting started is to launch the Notebook.\n",
    "    ```\n",
    "    jupyter notebook \n",
    "    ```\n",
    "    \n",
    "This means that you can now navigate within your files and open a new, clean Jupyter Notebook for use alongside this course. \n",
    "The new clean notebook may be opened by clicking 'New' and then 'Python 3'.\n",
    "Using this clean notebook, it is possible to run the interactive elements of each episode, either by copy and pasting or typing out the code in each of the `code block` cells (an example of which is shown below). "
   ]
  },
  {
   "cell_type": "code",
   "execution_count": 2,
   "metadata": {},
   "outputs": [
    {
     "name": "stdout",
     "output_type": "stream",
     "text": [
      "Actually maybe zero is lonelier\n"
     ]
    }
   ],
   "source": [
    "def code_block(number):\n",
    "    '''\n",
    "    This is a docstring which gives information about a function\n",
    "    \n",
    "    Parameters\n",
    "    ----------\n",
    "    number: int \n",
    "        This is a number, either 0 or 1\n",
    "    \n",
    "    Returns\n",
    "    -------\n",
    "    string:\n",
    "        The string that is returned\n",
    "    '''\n",
    "    if number == 1:\n",
    "        return 'One is the loneliest number'\n",
    "    elif number == 0:\n",
    "        return 'Actually maybe zero is lonelier'\n",
    "    else:\n",
    "        return 'Only numbers 0 or 1 please'\n",
    "\n",
    "print(code_block(0))"
   ]
  },
  {
   "cell_type": "markdown",
   "metadata": {},
   "source": [
    "Each lesson is **self-contained** so all of the code that is required is within each episode. \n",
    "This means that a new notebook can be used for each episode.\n",
    "\n",
    "We advise that you **read and try to understand** each of the code blocks. \n",
    "These are all working Python code, however if you are not familiar with Python hopefully you will still be able to appreciated the algorithms that are used. "
   ]
  },
  {
   "cell_type": "markdown",
   "metadata": {},
   "source": [
    "## Schedule\n",
    "This course consists of six episodes that introduce classical potential models and theiry parameterisation, discuss how these models may be used in molecular dynamics methods, and finally showing how molecular dynamics and elastic scattering theory can interact. \n",
    "\n",
    "| Episode | Description |\n",
    "|---|---|\n",
    "| [Classical Methods](./01_episode.ipynb) | Interacting spheres |\n",
    "| [Parameterisation](./02_episode.ipynb) | What numbers where? |\n",
    "| [Molecular Dynamics](./03_episode.ipynb) | Getting the ball rolling |\n",
    "| [Important Considerations](./04_episode.ipynb) | Is it that simple? |\n",
    "| [Using pylj](./05_episode.ipynb) | An *easy* MD software |\n",
    "| [Calculating Scattering](./06_episode.ipynb) | Why should I care? |"
   ]
  },
  {
   "cell_type": "markdown",
   "metadata": {
    "slideshow": {
     "slide_type": "slide"
    }
   },
   "source": [
    "## References\n",
    "\n",
    "1. Karplus, M. & McCammon, J. A. (2012). *Nat. Struct. Mol. Biol.*, **9**, 646&mdash;52, [10.1038/nsb0902-646](https://dx.doi.org/10.1038/nsb0902-646).\n",
    "2. Binder, K. (1995). *Monte Carlo and Molecular Dynamics Simulations in Polymer Science*. Oxford, UK. Oxford University Press.\n",
    "3. Kim, S.-P., van Duin, A. C. T. & Shenoy, V. B. (2011). *J. Power Sources*, **196**, 8590&mdash;7, [10.1016/j.jpowsour.2011.05.061](https://dx.doi.org/10.1016/j.jpowsour.2011.05.061).\n",
    "4. Burbano, M, Carlier, D., Boucher, F., Morgan, B. J., Salanne, M. *Phys. Rev. Lett.* **116**, 135901&mdash;6. [10.1103/PhysRevLett.116.135901](https://dx.doi.org/10.1103/PhysRevLett.116.135901).\n",
    "5. McCluskey, A. R., Morgan, B. J., Edler, K. J., & Parker, S. C. (2018). *JOSE*, **1**, 19, [10.21105/jose.00019](https://dx.doi.org/10.21105/jose.00019).\n",
    "6. Debye, P. J. W. (1915). *Ann. Phys*. **351**, 809&mdash;23, [10.1002/andp.19153510606](https:/dx.doi.org/10.1002/andp.19153510606).\n",
    "7. Harvey, J. (2017). *Computational Chemistry*. Oxford, UK. Oxford University Press.\n",
    "8. Grant, G. H. & Richards, W. G. (1995). *Computational Chemistry*. Oxford, UK. Oxford University Press.\n",
    "9. Leach, A. R. (1996). *Molecular Modelling: Principles and Applications*. Harlow, UK. Longman.\n",
    "10. Frenkel, D. & Smith, B. (2002). *Understanding Molecular Simulation: From Algorithms to Applications*. San Diego, USA. Academic Press.\n",
    "11. Allen, M. P. & Tildesley, D. J. (1987). *Computer Simulation of Liquids*. Oxford, UK. Clarendon Press."
   ]
  },
  {
   "cell_type": "code",
   "execution_count": null,
   "metadata": {},
   "outputs": [],
   "source": []
  }
 ],
 "metadata": {
  "kernelspec": {
   "display_name": "Python 3",
   "language": "python",
   "name": "python3"
  },
  "language_info": {
   "codemirror_mode": {
    "name": "ipython",
    "version": 3
   },
   "file_extension": ".py",
   "mimetype": "text/x-python",
   "name": "python",
   "nbconvert_exporter": "python",
   "pygments_lexer": "ipython3",
   "version": "3.7.1"
  }
 },
 "nbformat": 4,
 "nbformat_minor": 2
}
